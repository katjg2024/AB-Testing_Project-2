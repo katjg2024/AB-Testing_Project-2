{
 "cells": [
  {
   "cell_type": "code",
   "execution_count": 44,
   "id": "b21635ea",
   "metadata": {},
   "outputs": [],
   "source": [
    "import pandas as pd\n",
    "import matplotlib.pyplot as plt\n",
    "import seaborn as sns\n",
    "import numpy as np\n",
    "import scipy.stats as st\n",
    "from scipy import stats\n",
    "\n",
    "%matplotlib inline"
   ]
  },
  {
   "cell_type": "code",
   "execution_count": 5,
   "id": "e51ab36e",
   "metadata": {},
   "outputs": [
    {
     "data": {
      "text/html": [
       "<div>\n",
       "<style scoped>\n",
       "    .dataframe tbody tr th:only-of-type {\n",
       "        vertical-align: middle;\n",
       "    }\n",
       "\n",
       "    .dataframe tbody tr th {\n",
       "        vertical-align: top;\n",
       "    }\n",
       "\n",
       "    .dataframe thead th {\n",
       "        text-align: right;\n",
       "    }\n",
       "</style>\n",
       "<table border=\"1\" class=\"dataframe\">\n",
       "  <thead>\n",
       "    <tr style=\"text-align: right;\">\n",
       "      <th></th>\n",
       "      <th>client_id</th>\n",
       "      <th>clnt_tenure_yr</th>\n",
       "      <th>clnt_tenure_mnth</th>\n",
       "      <th>clnt_age</th>\n",
       "      <th>gendr</th>\n",
       "      <th>num_accts</th>\n",
       "      <th>bal</th>\n",
       "      <th>calls_6_mnth</th>\n",
       "      <th>logons_6_mnth</th>\n",
       "    </tr>\n",
       "  </thead>\n",
       "  <tbody>\n",
       "    <tr>\n",
       "      <th>0</th>\n",
       "      <td>836976</td>\n",
       "      <td>6.0</td>\n",
       "      <td>73.0</td>\n",
       "      <td>60.5</td>\n",
       "      <td>U</td>\n",
       "      <td>2.0</td>\n",
       "      <td>45105.30</td>\n",
       "      <td>6.0</td>\n",
       "      <td>9.0</td>\n",
       "    </tr>\n",
       "    <tr>\n",
       "      <th>1</th>\n",
       "      <td>2304905</td>\n",
       "      <td>7.0</td>\n",
       "      <td>94.0</td>\n",
       "      <td>58.0</td>\n",
       "      <td>U</td>\n",
       "      <td>2.0</td>\n",
       "      <td>110860.30</td>\n",
       "      <td>6.0</td>\n",
       "      <td>9.0</td>\n",
       "    </tr>\n",
       "    <tr>\n",
       "      <th>2</th>\n",
       "      <td>1439522</td>\n",
       "      <td>5.0</td>\n",
       "      <td>64.0</td>\n",
       "      <td>32.0</td>\n",
       "      <td>U</td>\n",
       "      <td>2.0</td>\n",
       "      <td>52467.79</td>\n",
       "      <td>6.0</td>\n",
       "      <td>9.0</td>\n",
       "    </tr>\n",
       "    <tr>\n",
       "      <th>3</th>\n",
       "      <td>1562045</td>\n",
       "      <td>16.0</td>\n",
       "      <td>198.0</td>\n",
       "      <td>49.0</td>\n",
       "      <td>M</td>\n",
       "      <td>2.0</td>\n",
       "      <td>67454.65</td>\n",
       "      <td>3.0</td>\n",
       "      <td>6.0</td>\n",
       "    </tr>\n",
       "    <tr>\n",
       "      <th>4</th>\n",
       "      <td>5126305</td>\n",
       "      <td>12.0</td>\n",
       "      <td>145.0</td>\n",
       "      <td>33.0</td>\n",
       "      <td>F</td>\n",
       "      <td>2.0</td>\n",
       "      <td>103671.75</td>\n",
       "      <td>0.0</td>\n",
       "      <td>3.0</td>\n",
       "    </tr>\n",
       "    <tr>\n",
       "      <th>...</th>\n",
       "      <td>...</td>\n",
       "      <td>...</td>\n",
       "      <td>...</td>\n",
       "      <td>...</td>\n",
       "      <td>...</td>\n",
       "      <td>...</td>\n",
       "      <td>...</td>\n",
       "      <td>...</td>\n",
       "      <td>...</td>\n",
       "    </tr>\n",
       "    <tr>\n",
       "      <th>70604</th>\n",
       "      <td>7993686</td>\n",
       "      <td>4.0</td>\n",
       "      <td>56.0</td>\n",
       "      <td>38.5</td>\n",
       "      <td>U</td>\n",
       "      <td>3.0</td>\n",
       "      <td>1411062.68</td>\n",
       "      <td>5.0</td>\n",
       "      <td>5.0</td>\n",
       "    </tr>\n",
       "    <tr>\n",
       "      <th>70605</th>\n",
       "      <td>8981690</td>\n",
       "      <td>12.0</td>\n",
       "      <td>148.0</td>\n",
       "      <td>31.0</td>\n",
       "      <td>M</td>\n",
       "      <td>2.0</td>\n",
       "      <td>101867.07</td>\n",
       "      <td>6.0</td>\n",
       "      <td>6.0</td>\n",
       "    </tr>\n",
       "    <tr>\n",
       "      <th>70606</th>\n",
       "      <td>333913</td>\n",
       "      <td>16.0</td>\n",
       "      <td>198.0</td>\n",
       "      <td>61.5</td>\n",
       "      <td>F</td>\n",
       "      <td>2.0</td>\n",
       "      <td>40745.00</td>\n",
       "      <td>3.0</td>\n",
       "      <td>3.0</td>\n",
       "    </tr>\n",
       "    <tr>\n",
       "      <th>70607</th>\n",
       "      <td>1573142</td>\n",
       "      <td>21.0</td>\n",
       "      <td>255.0</td>\n",
       "      <td>68.0</td>\n",
       "      <td>M</td>\n",
       "      <td>3.0</td>\n",
       "      <td>475114.69</td>\n",
       "      <td>4.0</td>\n",
       "      <td>4.0</td>\n",
       "    </tr>\n",
       "    <tr>\n",
       "      <th>70608</th>\n",
       "      <td>5602139</td>\n",
       "      <td>21.0</td>\n",
       "      <td>254.0</td>\n",
       "      <td>59.5</td>\n",
       "      <td>F</td>\n",
       "      <td>3.0</td>\n",
       "      <td>157498.73</td>\n",
       "      <td>7.0</td>\n",
       "      <td>7.0</td>\n",
       "    </tr>\n",
       "  </tbody>\n",
       "</table>\n",
       "<p>70609 rows × 9 columns</p>\n",
       "</div>"
      ],
      "text/plain": [
       "       client_id  clnt_tenure_yr  clnt_tenure_mnth  clnt_age gendr  num_accts  \\\n",
       "0         836976             6.0              73.0      60.5     U        2.0   \n",
       "1        2304905             7.0              94.0      58.0     U        2.0   \n",
       "2        1439522             5.0              64.0      32.0     U        2.0   \n",
       "3        1562045            16.0             198.0      49.0     M        2.0   \n",
       "4        5126305            12.0             145.0      33.0     F        2.0   \n",
       "...          ...             ...               ...       ...   ...        ...   \n",
       "70604    7993686             4.0              56.0      38.5     U        3.0   \n",
       "70605    8981690            12.0             148.0      31.0     M        2.0   \n",
       "70606     333913            16.0             198.0      61.5     F        2.0   \n",
       "70607    1573142            21.0             255.0      68.0     M        3.0   \n",
       "70608    5602139            21.0             254.0      59.5     F        3.0   \n",
       "\n",
       "              bal  calls_6_mnth  logons_6_mnth  \n",
       "0        45105.30           6.0            9.0  \n",
       "1       110860.30           6.0            9.0  \n",
       "2        52467.79           6.0            9.0  \n",
       "3        67454.65           3.0            6.0  \n",
       "4       103671.75           0.0            3.0  \n",
       "...           ...           ...            ...  \n",
       "70604  1411062.68           5.0            5.0  \n",
       "70605   101867.07           6.0            6.0  \n",
       "70606    40745.00           3.0            3.0  \n",
       "70607   475114.69           4.0            4.0  \n",
       "70608   157498.73           7.0            7.0  \n",
       "\n",
       "[70609 rows x 9 columns]"
      ]
     },
     "execution_count": 5,
     "metadata": {},
     "output_type": "execute_result"
    }
   ],
   "source": [
    "#demographic\n",
    "demo = '/Users/df_final_demo.txt'\n",
    "demo_df = pd.read_csv(demo)\n",
    "demo_df"
   ]
  },
  {
   "cell_type": "code",
   "execution_count": 6,
   "id": "4f840655",
   "metadata": {},
   "outputs": [
    {
     "data": {
      "text/plain": [
       "gendr\n",
       "U    24122\n",
       "M    23724\n",
       "F    22746\n",
       "X        3\n",
       "Name: count, dtype: int64"
      ]
     },
     "execution_count": 6,
     "metadata": {},
     "output_type": "execute_result"
    }
   ],
   "source": [
    "demo_df['gendr'].value_counts()"
   ]
  },
  {
   "cell_type": "code",
   "execution_count": 7,
   "id": "9f6d93bd",
   "metadata": {},
   "outputs": [
    {
     "data": {
      "text/plain": [
       "<Axes: xlabel='clnt_age', ylabel='Count'>"
      ]
     },
     "execution_count": 7,
     "metadata": {},
     "output_type": "execute_result"
    },
    {
     "data": {
      "image/png": "[encoded data removed]",
      "text/plain": [
       "<Figure size 640x480 with 1 Axes>"
      ]
     },
     "metadata": {},
     "output_type": "display_data"
    }
   ],
   "source": [
    "sns.histplot(demo_df['clnt_age'], kde=True, bins=100)"
   ]
  },
  {
   "cell_type": "code",
   "execution_count": 8,
   "id": "807a5d1b",
   "metadata": {},
   "outputs": [
    {
     "data": {
      "text/html": [
       "<div>\n",
       "<style scoped>\n",
       "    .dataframe tbody tr th:only-of-type {\n",
       "        vertical-align: middle;\n",
       "    }\n",
       "\n",
       "    .dataframe tbody tr th {\n",
       "        vertical-align: top;\n",
       "    }\n",
       "\n",
       "    .dataframe thead th {\n",
       "        text-align: right;\n",
       "    }\n",
       "</style>\n",
       "<table border=\"1\" class=\"dataframe\">\n",
       "  <thead>\n",
       "    <tr style=\"text-align: right;\">\n",
       "      <th></th>\n",
       "      <th>client_id</th>\n",
       "      <th>Variation</th>\n",
       "    </tr>\n",
       "  </thead>\n",
       "  <tbody>\n",
       "    <tr>\n",
       "      <th>0</th>\n",
       "      <td>9988021</td>\n",
       "      <td>Test</td>\n",
       "    </tr>\n",
       "    <tr>\n",
       "      <th>1</th>\n",
       "      <td>8320017</td>\n",
       "      <td>Test</td>\n",
       "    </tr>\n",
       "    <tr>\n",
       "      <th>2</th>\n",
       "      <td>4033851</td>\n",
       "      <td>Control</td>\n",
       "    </tr>\n",
       "    <tr>\n",
       "      <th>3</th>\n",
       "      <td>1982004</td>\n",
       "      <td>Test</td>\n",
       "    </tr>\n",
       "    <tr>\n",
       "      <th>4</th>\n",
       "      <td>9294070</td>\n",
       "      <td>Control</td>\n",
       "    </tr>\n",
       "    <tr>\n",
       "      <th>...</th>\n",
       "      <td>...</td>\n",
       "      <td>...</td>\n",
       "    </tr>\n",
       "    <tr>\n",
       "      <th>70604</th>\n",
       "      <td>2443347</td>\n",
       "      <td>NaN</td>\n",
       "    </tr>\n",
       "    <tr>\n",
       "      <th>70605</th>\n",
       "      <td>8788427</td>\n",
       "      <td>NaN</td>\n",
       "    </tr>\n",
       "    <tr>\n",
       "      <th>70606</th>\n",
       "      <td>266828</td>\n",
       "      <td>NaN</td>\n",
       "    </tr>\n",
       "    <tr>\n",
       "      <th>70607</th>\n",
       "      <td>1266421</td>\n",
       "      <td>NaN</td>\n",
       "    </tr>\n",
       "    <tr>\n",
       "      <th>70608</th>\n",
       "      <td>9895983</td>\n",
       "      <td>NaN</td>\n",
       "    </tr>\n",
       "  </tbody>\n",
       "</table>\n",
       "<p>70609 rows × 2 columns</p>\n",
       "</div>"
      ],
      "text/plain": [
       "       client_id Variation\n",
       "0        9988021      Test\n",
       "1        8320017      Test\n",
       "2        4033851   Control\n",
       "3        1982004      Test\n",
       "4        9294070   Control\n",
       "...          ...       ...\n",
       "70604    2443347       NaN\n",
       "70605    8788427       NaN\n",
       "70606     266828       NaN\n",
       "70607    1266421       NaN\n",
       "70608    9895983       NaN\n",
       "\n",
       "[70609 rows x 2 columns]"
      ]
     },
     "execution_count": 8,
     "metadata": {},
     "output_type": "execute_result"
    }
   ],
   "source": [
    "#final group who was in the experiment\n",
    "final_exp = '/Users/df_final_experiment_clients.txt'\n",
    "final_df = pd.read_csv(final_exp)\n",
    "final_df"
   ]
  },
  {
   "cell_type": "code",
   "execution_count": 9,
   "id": "b59aeb2a",
   "metadata": {},
   "outputs": [
    {
     "data": {
      "text/html": [
       "<div>\n",
       "<style scoped>\n",
       "    .dataframe tbody tr th:only-of-type {\n",
       "        vertical-align: middle;\n",
       "    }\n",
       "\n",
       "    .dataframe tbody tr th {\n",
       "        vertical-align: top;\n",
       "    }\n",
       "\n",
       "    .dataframe thead th {\n",
       "        text-align: right;\n",
       "    }\n",
       "</style>\n",
       "<table border=\"1\" class=\"dataframe\">\n",
       "  <thead>\n",
       "    <tr style=\"text-align: right;\">\n",
       "      <th></th>\n",
       "      <th>client_id</th>\n",
       "      <th>clnt_tenure_yr</th>\n",
       "      <th>clnt_tenure_mnth</th>\n",
       "      <th>clnt_age</th>\n",
       "      <th>gendr</th>\n",
       "      <th>num_accts</th>\n",
       "      <th>bal</th>\n",
       "      <th>calls_6_mnth</th>\n",
       "      <th>logons_6_mnth</th>\n",
       "      <th>Variation</th>\n",
       "    </tr>\n",
       "  </thead>\n",
       "  <tbody>\n",
       "    <tr>\n",
       "      <th>0</th>\n",
       "      <td>836976</td>\n",
       "      <td>6.0</td>\n",
       "      <td>73.0</td>\n",
       "      <td>60.5</td>\n",
       "      <td>U</td>\n",
       "      <td>2.0</td>\n",
       "      <td>45105.30</td>\n",
       "      <td>6.0</td>\n",
       "      <td>9.0</td>\n",
       "      <td>Test</td>\n",
       "    </tr>\n",
       "    <tr>\n",
       "      <th>1</th>\n",
       "      <td>2304905</td>\n",
       "      <td>7.0</td>\n",
       "      <td>94.0</td>\n",
       "      <td>58.0</td>\n",
       "      <td>U</td>\n",
       "      <td>2.0</td>\n",
       "      <td>110860.30</td>\n",
       "      <td>6.0</td>\n",
       "      <td>9.0</td>\n",
       "      <td>Control</td>\n",
       "    </tr>\n",
       "    <tr>\n",
       "      <th>2</th>\n",
       "      <td>1439522</td>\n",
       "      <td>5.0</td>\n",
       "      <td>64.0</td>\n",
       "      <td>32.0</td>\n",
       "      <td>U</td>\n",
       "      <td>2.0</td>\n",
       "      <td>52467.79</td>\n",
       "      <td>6.0</td>\n",
       "      <td>9.0</td>\n",
       "      <td>Test</td>\n",
       "    </tr>\n",
       "    <tr>\n",
       "      <th>3</th>\n",
       "      <td>1562045</td>\n",
       "      <td>16.0</td>\n",
       "      <td>198.0</td>\n",
       "      <td>49.0</td>\n",
       "      <td>M</td>\n",
       "      <td>2.0</td>\n",
       "      <td>67454.65</td>\n",
       "      <td>3.0</td>\n",
       "      <td>6.0</td>\n",
       "      <td>Test</td>\n",
       "    </tr>\n",
       "    <tr>\n",
       "      <th>4</th>\n",
       "      <td>5126305</td>\n",
       "      <td>12.0</td>\n",
       "      <td>145.0</td>\n",
       "      <td>33.0</td>\n",
       "      <td>F</td>\n",
       "      <td>2.0</td>\n",
       "      <td>103671.75</td>\n",
       "      <td>0.0</td>\n",
       "      <td>3.0</td>\n",
       "      <td>Control</td>\n",
       "    </tr>\n",
       "    <tr>\n",
       "      <th>...</th>\n",
       "      <td>...</td>\n",
       "      <td>...</td>\n",
       "      <td>...</td>\n",
       "      <td>...</td>\n",
       "      <td>...</td>\n",
       "      <td>...</td>\n",
       "      <td>...</td>\n",
       "      <td>...</td>\n",
       "      <td>...</td>\n",
       "      <td>...</td>\n",
       "    </tr>\n",
       "    <tr>\n",
       "      <th>70604</th>\n",
       "      <td>7993686</td>\n",
       "      <td>4.0</td>\n",
       "      <td>56.0</td>\n",
       "      <td>38.5</td>\n",
       "      <td>U</td>\n",
       "      <td>3.0</td>\n",
       "      <td>1411062.68</td>\n",
       "      <td>5.0</td>\n",
       "      <td>5.0</td>\n",
       "      <td>NaN</td>\n",
       "    </tr>\n",
       "    <tr>\n",
       "      <th>70605</th>\n",
       "      <td>8981690</td>\n",
       "      <td>12.0</td>\n",
       "      <td>148.0</td>\n",
       "      <td>31.0</td>\n",
       "      <td>M</td>\n",
       "      <td>2.0</td>\n",
       "      <td>101867.07</td>\n",
       "      <td>6.0</td>\n",
       "      <td>6.0</td>\n",
       "      <td>NaN</td>\n",
       "    </tr>\n",
       "    <tr>\n",
       "      <th>70606</th>\n",
       "      <td>333913</td>\n",
       "      <td>16.0</td>\n",
       "      <td>198.0</td>\n",
       "      <td>61.5</td>\n",
       "      <td>F</td>\n",
       "      <td>2.0</td>\n",
       "      <td>40745.00</td>\n",
       "      <td>3.0</td>\n",
       "      <td>3.0</td>\n",
       "      <td>NaN</td>\n",
       "    </tr>\n",
       "    <tr>\n",
       "      <th>70607</th>\n",
       "      <td>1573142</td>\n",
       "      <td>21.0</td>\n",
       "      <td>255.0</td>\n",
       "      <td>68.0</td>\n",
       "      <td>M</td>\n",
       "      <td>3.0</td>\n",
       "      <td>475114.69</td>\n",
       "      <td>4.0</td>\n",
       "      <td>4.0</td>\n",
       "      <td>NaN</td>\n",
       "    </tr>\n",
       "    <tr>\n",
       "      <th>70608</th>\n",
       "      <td>5602139</td>\n",
       "      <td>21.0</td>\n",
       "      <td>254.0</td>\n",
       "      <td>59.5</td>\n",
       "      <td>F</td>\n",
       "      <td>3.0</td>\n",
       "      <td>157498.73</td>\n",
       "      <td>7.0</td>\n",
       "      <td>7.0</td>\n",
       "      <td>NaN</td>\n",
       "    </tr>\n",
       "  </tbody>\n",
       "</table>\n",
       "<p>70609 rows × 10 columns</p>\n",
       "</div>"
      ],
      "text/plain": [
       "       client_id  clnt_tenure_yr  clnt_tenure_mnth  clnt_age gendr  num_accts  \\\n",
       "0         836976             6.0              73.0      60.5     U        2.0   \n",
       "1        2304905             7.0              94.0      58.0     U        2.0   \n",
       "2        1439522             5.0              64.0      32.0     U        2.0   \n",
       "3        1562045            16.0             198.0      49.0     M        2.0   \n",
       "4        5126305            12.0             145.0      33.0     F        2.0   \n",
       "...          ...             ...               ...       ...   ...        ...   \n",
       "70604    7993686             4.0              56.0      38.5     U        3.0   \n",
       "70605    8981690            12.0             148.0      31.0     M        2.0   \n",
       "70606     333913            16.0             198.0      61.5     F        2.0   \n",
       "70607    1573142            21.0             255.0      68.0     M        3.0   \n",
       "70608    5602139            21.0             254.0      59.5     F        3.0   \n",
       "\n",
       "              bal  calls_6_mnth  logons_6_mnth Variation  \n",
       "0        45105.30           6.0            9.0      Test  \n",
       "1       110860.30           6.0            9.0   Control  \n",
       "2        52467.79           6.0            9.0      Test  \n",
       "3        67454.65           3.0            6.0      Test  \n",
       "4       103671.75           0.0            3.0   Control  \n",
       "...           ...           ...            ...       ...  \n",
       "70604  1411062.68           5.0            5.0       NaN  \n",
       "70605   101867.07           6.0            6.0       NaN  \n",
       "70606    40745.00           3.0            3.0       NaN  \n",
       "70607   475114.69           4.0            4.0       NaN  \n",
       "70608   157498.73           7.0            7.0       NaN  \n",
       "\n",
       "[70609 rows x 10 columns]"
      ]
     },
     "execution_count": 9,
     "metadata": {},
     "output_type": "execute_result"
    }
   ],
   "source": [
    "clients_merged = pd.merge(demo_df, final_df, on='client_id', how='outer')\n",
    "clients_merged"
   ]
  },
  {
   "cell_type": "code",
   "execution_count": 10,
   "id": "9ee52552",
   "metadata": {},
   "outputs": [
    {
     "data": {
      "text/html": [
       "<div>\n",
       "<style scoped>\n",
       "    .dataframe tbody tr th:only-of-type {\n",
       "        vertical-align: middle;\n",
       "    }\n",
       "\n",
       "    .dataframe tbody tr th {\n",
       "        vertical-align: top;\n",
       "    }\n",
       "\n",
       "    .dataframe thead th {\n",
       "        text-align: right;\n",
       "    }\n",
       "</style>\n",
       "<table border=\"1\" class=\"dataframe\">\n",
       "  <thead>\n",
       "    <tr style=\"text-align: right;\">\n",
       "      <th></th>\n",
       "      <th>client_id</th>\n",
       "      <th>clnt_tenure_yr</th>\n",
       "      <th>clnt_tenure_mnth</th>\n",
       "      <th>clnt_age</th>\n",
       "      <th>gendr</th>\n",
       "      <th>num_accts</th>\n",
       "      <th>bal</th>\n",
       "      <th>calls_6_mnth</th>\n",
       "      <th>logons_6_mnth</th>\n",
       "      <th>Variation</th>\n",
       "    </tr>\n",
       "  </thead>\n",
       "  <tbody>\n",
       "    <tr>\n",
       "      <th>0</th>\n",
       "      <td>836976</td>\n",
       "      <td>6.0</td>\n",
       "      <td>73.0</td>\n",
       "      <td>60.5</td>\n",
       "      <td>U</td>\n",
       "      <td>2.0</td>\n",
       "      <td>45105.30</td>\n",
       "      <td>6.0</td>\n",
       "      <td>9.0</td>\n",
       "      <td>Test</td>\n",
       "    </tr>\n",
       "    <tr>\n",
       "      <th>2</th>\n",
       "      <td>1439522</td>\n",
       "      <td>5.0</td>\n",
       "      <td>64.0</td>\n",
       "      <td>32.0</td>\n",
       "      <td>U</td>\n",
       "      <td>2.0</td>\n",
       "      <td>52467.79</td>\n",
       "      <td>6.0</td>\n",
       "      <td>9.0</td>\n",
       "      <td>Test</td>\n",
       "    </tr>\n",
       "    <tr>\n",
       "      <th>3</th>\n",
       "      <td>1562045</td>\n",
       "      <td>16.0</td>\n",
       "      <td>198.0</td>\n",
       "      <td>49.0</td>\n",
       "      <td>M</td>\n",
       "      <td>2.0</td>\n",
       "      <td>67454.65</td>\n",
       "      <td>3.0</td>\n",
       "      <td>6.0</td>\n",
       "      <td>Test</td>\n",
       "    </tr>\n",
       "    <tr>\n",
       "      <th>7</th>\n",
       "      <td>388801</td>\n",
       "      <td>30.0</td>\n",
       "      <td>361.0</td>\n",
       "      <td>57.5</td>\n",
       "      <td>M</td>\n",
       "      <td>5.0</td>\n",
       "      <td>522498.72</td>\n",
       "      <td>1.0</td>\n",
       "      <td>4.0</td>\n",
       "      <td>Test</td>\n",
       "    </tr>\n",
       "    <tr>\n",
       "      <th>9</th>\n",
       "      <td>8198645</td>\n",
       "      <td>15.0</td>\n",
       "      <td>189.0</td>\n",
       "      <td>54.5</td>\n",
       "      <td>F</td>\n",
       "      <td>2.0</td>\n",
       "      <td>382303.83</td>\n",
       "      <td>6.0</td>\n",
       "      <td>9.0</td>\n",
       "      <td>Test</td>\n",
       "    </tr>\n",
       "    <tr>\n",
       "      <th>...</th>\n",
       "      <td>...</td>\n",
       "      <td>...</td>\n",
       "      <td>...</td>\n",
       "      <td>...</td>\n",
       "      <td>...</td>\n",
       "      <td>...</td>\n",
       "      <td>...</td>\n",
       "      <td>...</td>\n",
       "      <td>...</td>\n",
       "      <td>...</td>\n",
       "    </tr>\n",
       "    <tr>\n",
       "      <th>50492</th>\n",
       "      <td>501496</td>\n",
       "      <td>23.0</td>\n",
       "      <td>281.0</td>\n",
       "      <td>35.0</td>\n",
       "      <td>F</td>\n",
       "      <td>2.0</td>\n",
       "      <td>32529.34</td>\n",
       "      <td>0.0</td>\n",
       "      <td>3.0</td>\n",
       "      <td>Test</td>\n",
       "    </tr>\n",
       "    <tr>\n",
       "      <th>50495</th>\n",
       "      <td>1780858</td>\n",
       "      <td>21.0</td>\n",
       "      <td>262.0</td>\n",
       "      <td>68.5</td>\n",
       "      <td>M</td>\n",
       "      <td>3.0</td>\n",
       "      <td>372100.59</td>\n",
       "      <td>6.0</td>\n",
       "      <td>9.0</td>\n",
       "      <td>Test</td>\n",
       "    </tr>\n",
       "    <tr>\n",
       "      <th>50497</th>\n",
       "      <td>5826160</td>\n",
       "      <td>20.0</td>\n",
       "      <td>249.0</td>\n",
       "      <td>56.5</td>\n",
       "      <td>F</td>\n",
       "      <td>2.0</td>\n",
       "      <td>44837.16</td>\n",
       "      <td>2.0</td>\n",
       "      <td>5.0</td>\n",
       "      <td>Test</td>\n",
       "    </tr>\n",
       "    <tr>\n",
       "      <th>50498</th>\n",
       "      <td>8739285</td>\n",
       "      <td>19.0</td>\n",
       "      <td>229.0</td>\n",
       "      <td>69.5</td>\n",
       "      <td>F</td>\n",
       "      <td>2.0</td>\n",
       "      <td>44994.24</td>\n",
       "      <td>1.0</td>\n",
       "      <td>4.0</td>\n",
       "      <td>Test</td>\n",
       "    </tr>\n",
       "    <tr>\n",
       "      <th>50499</th>\n",
       "      <td>7468138</td>\n",
       "      <td>18.0</td>\n",
       "      <td>222.0</td>\n",
       "      <td>61.0</td>\n",
       "      <td>F</td>\n",
       "      <td>3.0</td>\n",
       "      <td>209278.15</td>\n",
       "      <td>0.0</td>\n",
       "      <td>3.0</td>\n",
       "      <td>Test</td>\n",
       "    </tr>\n",
       "  </tbody>\n",
       "</table>\n",
       "<p>26968 rows × 10 columns</p>\n",
       "</div>"
      ],
      "text/plain": [
       "       client_id  clnt_tenure_yr  clnt_tenure_mnth  clnt_age gendr  num_accts  \\\n",
       "0         836976             6.0              73.0      60.5     U        2.0   \n",
       "2        1439522             5.0              64.0      32.0     U        2.0   \n",
       "3        1562045            16.0             198.0      49.0     M        2.0   \n",
       "7         388801            30.0             361.0      57.5     M        5.0   \n",
       "9        8198645            15.0             189.0      54.5     F        2.0   \n",
       "...          ...             ...               ...       ...   ...        ...   \n",
       "50492     501496            23.0             281.0      35.0     F        2.0   \n",
       "50495    1780858            21.0             262.0      68.5     M        3.0   \n",
       "50497    5826160            20.0             249.0      56.5     F        2.0   \n",
       "50498    8739285            19.0             229.0      69.5     F        2.0   \n",
       "50499    7468138            18.0             222.0      61.0     F        3.0   \n",
       "\n",
       "             bal  calls_6_mnth  logons_6_mnth Variation  \n",
       "0       45105.30           6.0            9.0      Test  \n",
       "2       52467.79           6.0            9.0      Test  \n",
       "3       67454.65           3.0            6.0      Test  \n",
       "7      522498.72           1.0            4.0      Test  \n",
       "9      382303.83           6.0            9.0      Test  \n",
       "...          ...           ...            ...       ...  \n",
       "50492   32529.34           0.0            3.0      Test  \n",
       "50495  372100.59           6.0            9.0      Test  \n",
       "50497   44837.16           2.0            5.0      Test  \n",
       "50498   44994.24           1.0            4.0      Test  \n",
       "50499  209278.15           0.0            3.0      Test  \n",
       "\n",
       "[26968 rows x 10 columns]"
      ]
     },
     "execution_count": 10,
     "metadata": {},
     "output_type": "execute_result"
    }
   ],
   "source": [
    "test_group = clients_merged[clients_merged['Variation'] == 'Test']\n",
    "test_group"
   ]
  },
  {
   "cell_type": "code",
   "execution_count": 11,
   "id": "544a27c3",
   "metadata": {},
   "outputs": [
    {
     "data": {
      "text/plain": [
       "<Axes: xlabel='clnt_age', ylabel='Count'>"
      ]
     },
     "execution_count": 11,
     "metadata": {},
     "output_type": "execute_result"
    },
    {
     "data": {
      "image/png": "[encoded data removed]",
      "text/plain": [
       "<Figure size 640x480 with 1 Axes>"
      ]
     },
     "metadata": {},
     "output_type": "display_data"
    }
   ],
   "source": [
    "sns.histplot(test_group['clnt_age'], kde=True, bins=100)"
   ]
  },
  {
   "cell_type": "code",
   "execution_count": 12,
   "id": "c0c500f5",
   "metadata": {},
   "outputs": [
    {
     "data": {
      "text/plain": [
       "<Axes: xlabel='clnt_tenure_mnth', ylabel='Count'>"
      ]
     },
     "execution_count": 12,
     "metadata": {},
     "output_type": "execute_result"
    },
    {
     "data": {
      "image/png": "[encoded data removed]",
      "text/plain": [
       "<Figure size 640x480 with 1 Axes>"
      ]
     },
     "metadata": {},
     "output_type": "display_data"
    }
   ],
   "source": [
    "sns.histplot(test_group['clnt_tenure_mnth'], kde=True, bins=250, color=\"cyan\") "
   ]
  },
  {
   "cell_type": "code",
   "execution_count": 13,
   "id": "176a8854",
   "metadata": {},
   "outputs": [
    {
     "data": {
      "text/html": [
       "<div>\n",
       "<style scoped>\n",
       "    .dataframe tbody tr th:only-of-type {\n",
       "        vertical-align: middle;\n",
       "    }\n",
       "\n",
       "    .dataframe tbody tr th {\n",
       "        vertical-align: top;\n",
       "    }\n",
       "\n",
       "    .dataframe thead th {\n",
       "        text-align: right;\n",
       "    }\n",
       "</style>\n",
       "<table border=\"1\" class=\"dataframe\">\n",
       "  <thead>\n",
       "    <tr style=\"text-align: right;\">\n",
       "      <th></th>\n",
       "      <th>client_id</th>\n",
       "      <th>clnt_tenure_yr</th>\n",
       "      <th>clnt_tenure_mnth</th>\n",
       "      <th>clnt_age</th>\n",
       "      <th>gendr</th>\n",
       "      <th>num_accts</th>\n",
       "      <th>bal</th>\n",
       "      <th>calls_6_mnth</th>\n",
       "      <th>logons_6_mnth</th>\n",
       "      <th>Variation</th>\n",
       "    </tr>\n",
       "  </thead>\n",
       "  <tbody>\n",
       "    <tr>\n",
       "      <th>1</th>\n",
       "      <td>2304905</td>\n",
       "      <td>7.0</td>\n",
       "      <td>94.0</td>\n",
       "      <td>58.0</td>\n",
       "      <td>U</td>\n",
       "      <td>2.0</td>\n",
       "      <td>110860.30</td>\n",
       "      <td>6.0</td>\n",
       "      <td>9.0</td>\n",
       "      <td>Control</td>\n",
       "    </tr>\n",
       "    <tr>\n",
       "      <th>4</th>\n",
       "      <td>5126305</td>\n",
       "      <td>12.0</td>\n",
       "      <td>145.0</td>\n",
       "      <td>33.0</td>\n",
       "      <td>F</td>\n",
       "      <td>2.0</td>\n",
       "      <td>103671.75</td>\n",
       "      <td>0.0</td>\n",
       "      <td>3.0</td>\n",
       "      <td>Control</td>\n",
       "    </tr>\n",
       "    <tr>\n",
       "      <th>5</th>\n",
       "      <td>3727881</td>\n",
       "      <td>5.0</td>\n",
       "      <td>71.0</td>\n",
       "      <td>30.5</td>\n",
       "      <td>U</td>\n",
       "      <td>2.0</td>\n",
       "      <td>23915.60</td>\n",
       "      <td>0.0</td>\n",
       "      <td>3.0</td>\n",
       "      <td>Control</td>\n",
       "    </tr>\n",
       "    <tr>\n",
       "      <th>6</th>\n",
       "      <td>272934</td>\n",
       "      <td>5.0</td>\n",
       "      <td>66.0</td>\n",
       "      <td>58.5</td>\n",
       "      <td>U</td>\n",
       "      <td>2.0</td>\n",
       "      <td>27021.42</td>\n",
       "      <td>2.0</td>\n",
       "      <td>5.0</td>\n",
       "      <td>Control</td>\n",
       "    </tr>\n",
       "    <tr>\n",
       "      <th>8</th>\n",
       "      <td>285619</td>\n",
       "      <td>30.0</td>\n",
       "      <td>369.0</td>\n",
       "      <td>67.5</td>\n",
       "      <td>M</td>\n",
       "      <td>2.0</td>\n",
       "      <td>299388.72</td>\n",
       "      <td>3.0</td>\n",
       "      <td>6.0</td>\n",
       "      <td>Control</td>\n",
       "    </tr>\n",
       "    <tr>\n",
       "      <th>...</th>\n",
       "      <td>...</td>\n",
       "      <td>...</td>\n",
       "      <td>...</td>\n",
       "      <td>...</td>\n",
       "      <td>...</td>\n",
       "      <td>...</td>\n",
       "      <td>...</td>\n",
       "      <td>...</td>\n",
       "      <td>...</td>\n",
       "      <td>...</td>\n",
       "    </tr>\n",
       "    <tr>\n",
       "      <th>50486</th>\n",
       "      <td>6662941</td>\n",
       "      <td>7.0</td>\n",
       "      <td>84.0</td>\n",
       "      <td>36.0</td>\n",
       "      <td>F</td>\n",
       "      <td>2.0</td>\n",
       "      <td>83101.84</td>\n",
       "      <td>4.0</td>\n",
       "      <td>7.0</td>\n",
       "      <td>Control</td>\n",
       "    </tr>\n",
       "    <tr>\n",
       "      <th>50491</th>\n",
       "      <td>2787512</td>\n",
       "      <td>23.0</td>\n",
       "      <td>283.0</td>\n",
       "      <td>48.0</td>\n",
       "      <td>F</td>\n",
       "      <td>3.0</td>\n",
       "      <td>123618.60</td>\n",
       "      <td>1.0</td>\n",
       "      <td>4.0</td>\n",
       "      <td>Control</td>\n",
       "    </tr>\n",
       "    <tr>\n",
       "      <th>50493</th>\n",
       "      <td>9932367</td>\n",
       "      <td>23.0</td>\n",
       "      <td>280.0</td>\n",
       "      <td>57.0</td>\n",
       "      <td>F</td>\n",
       "      <td>2.0</td>\n",
       "      <td>94466.55</td>\n",
       "      <td>6.0</td>\n",
       "      <td>9.0</td>\n",
       "      <td>Control</td>\n",
       "    </tr>\n",
       "    <tr>\n",
       "      <th>50494</th>\n",
       "      <td>4079649</td>\n",
       "      <td>23.0</td>\n",
       "      <td>276.0</td>\n",
       "      <td>62.5</td>\n",
       "      <td>M</td>\n",
       "      <td>3.0</td>\n",
       "      <td>57575.28</td>\n",
       "      <td>4.0</td>\n",
       "      <td>7.0</td>\n",
       "      <td>Control</td>\n",
       "    </tr>\n",
       "    <tr>\n",
       "      <th>50496</th>\n",
       "      <td>6967120</td>\n",
       "      <td>21.0</td>\n",
       "      <td>260.0</td>\n",
       "      <td>68.5</td>\n",
       "      <td>M</td>\n",
       "      <td>3.0</td>\n",
       "      <td>4279873.38</td>\n",
       "      <td>6.0</td>\n",
       "      <td>9.0</td>\n",
       "      <td>Control</td>\n",
       "    </tr>\n",
       "  </tbody>\n",
       "</table>\n",
       "<p>23532 rows × 10 columns</p>\n",
       "</div>"
      ],
      "text/plain": [
       "       client_id  clnt_tenure_yr  clnt_tenure_mnth  clnt_age gendr  num_accts  \\\n",
       "1        2304905             7.0              94.0      58.0     U        2.0   \n",
       "4        5126305            12.0             145.0      33.0     F        2.0   \n",
       "5        3727881             5.0              71.0      30.5     U        2.0   \n",
       "6         272934             5.0              66.0      58.5     U        2.0   \n",
       "8         285619            30.0             369.0      67.5     M        2.0   \n",
       "...          ...             ...               ...       ...   ...        ...   \n",
       "50486    6662941             7.0              84.0      36.0     F        2.0   \n",
       "50491    2787512            23.0             283.0      48.0     F        3.0   \n",
       "50493    9932367            23.0             280.0      57.0     F        2.0   \n",
       "50494    4079649            23.0             276.0      62.5     M        3.0   \n",
       "50496    6967120            21.0             260.0      68.5     M        3.0   \n",
       "\n",
       "              bal  calls_6_mnth  logons_6_mnth Variation  \n",
       "1       110860.30           6.0            9.0   Control  \n",
       "4       103671.75           0.0            3.0   Control  \n",
       "5        23915.60           0.0            3.0   Control  \n",
       "6        27021.42           2.0            5.0   Control  \n",
       "8       299388.72           3.0            6.0   Control  \n",
       "...           ...           ...            ...       ...  \n",
       "50486    83101.84           4.0            7.0   Control  \n",
       "50491   123618.60           1.0            4.0   Control  \n",
       "50493    94466.55           6.0            9.0   Control  \n",
       "50494    57575.28           4.0            7.0   Control  \n",
       "50496  4279873.38           6.0            9.0   Control  \n",
       "\n",
       "[23532 rows x 10 columns]"
      ]
     },
     "execution_count": 13,
     "metadata": {},
     "output_type": "execute_result"
    }
   ],
   "source": [
    "control_group = clients_merged[clients_merged['Variation'] == 'Control']\n",
    "control_group"
   ]
  },
  {
   "cell_type": "code",
   "execution_count": 14,
   "id": "6c329d13",
   "metadata": {},
   "outputs": [
    {
     "data": {
      "text/plain": [
       "<Axes: xlabel='clnt_tenure_mnth', ylabel='Count'>"
      ]
     },
     "execution_count": 14,
     "metadata": {},
     "output_type": "execute_result"
    },
    {
     "data": {
      "image/png": "[encoded data removed]",
      "text/plain": [
       "<Figure size 640x480 with 1 Axes>"
      ]
     },
     "metadata": {},
     "output_type": "display_data"
    }
   ],
   "source": [
    "sns.histplot(control_group['clnt_tenure_mnth'], kde=True, bins=250, color=\"cyan\") "
   ]
  },
  {
   "cell_type": "code",
   "execution_count": 15,
   "id": "34fcc610",
   "metadata": {},
   "outputs": [
    {
     "data": {
      "text/plain": [
       "<Axes: xlabel='clnt_age', ylabel='Count'>"
      ]
     },
     "execution_count": 15,
     "metadata": {},
     "output_type": "execute_result"
    },
    {
     "data": {
      "image/png": "[encoded data removed]",
      "text/plain": [
       "<Figure size 640x480 with 1 Axes>"
      ]
     },
     "metadata": {},
     "output_type": "display_data"
    }
   ],
   "source": [
    "sns.histplot(control_group['clnt_age'], kde=True, bins=100)"
   ]
  },
  {
   "cell_type": "code",
   "execution_count": 16,
   "id": "3f2da855",
   "metadata": {},
   "outputs": [
    {
     "data": {
      "image/png": "[encoded data removed]",
      "text/plain": [
       "<Figure size 640x480 with 1 Axes>"
      ]
     },
     "metadata": {},
     "output_type": "display_data"
    }
   ],
   "source": [
    "average_age = test_group['clnt_age'].mean()\n",
    "\n",
    "plt.axvline(x=average_age, color='red', linestyle='--', label='Average Age: {:.2f}'.format(average_age))\n",
    "\n",
    "plt.legend()\n",
    "plt.show()"
   ]
  },
  {
   "cell_type": "code",
   "execution_count": 17,
   "id": "8f7dd20f",
   "metadata": {},
   "outputs": [
    {
     "data": {
      "text/plain": [
       "<Axes: xlabel='clnt_tenure_mnth', ylabel='Count'>"
      ]
     },
     "execution_count": 17,
     "metadata": {},
     "output_type": "execute_result"
    },
    {
     "data": {
      "image/png": "[encoded data removed]",
      "text/plain": [
       "<Figure size 640x480 with 1 Axes>"
      ]
     },
     "metadata": {},
     "output_type": "display_data"
    }
   ],
   "source": [
    "sns.histplot(control_group['clnt_tenure_mnth'], kde=True, bins=250, color=\"cyan\") "
   ]
  },
  {
   "cell_type": "code",
   "execution_count": 18,
   "id": "03df3852",
   "metadata": {},
   "outputs": [],
   "source": [
    "pt1 = '/Users/df_final_web_data_pt_1.txt'\n",
    "p1_df = pd.read_csv(pt1)\n",
    "pt2 = '/Users/df_final_web_data_pt_2.txt'\n",
    "p2_df = pd.read_csv(pt2)"
   ]
  },
  {
   "cell_type": "code",
   "execution_count": 19,
   "id": "6ca2b2f2",
   "metadata": {},
   "outputs": [
    {
     "data": {
      "text/html": [
       "<div>\n",
       "<style scoped>\n",
       "    .dataframe tbody tr th:only-of-type {\n",
       "        vertical-align: middle;\n",
       "    }\n",
       "\n",
       "    .dataframe tbody tr th {\n",
       "        vertical-align: top;\n",
       "    }\n",
       "\n",
       "    .dataframe thead th {\n",
       "        text-align: right;\n",
       "    }\n",
       "</style>\n",
       "<table border=\"1\" class=\"dataframe\">\n",
       "  <thead>\n",
       "    <tr style=\"text-align: right;\">\n",
       "      <th></th>\n",
       "      <th>client_id</th>\n",
       "      <th>visitor_id</th>\n",
       "      <th>visit_id</th>\n",
       "      <th>process_step</th>\n",
       "      <th>date_time</th>\n",
       "    </tr>\n",
       "  </thead>\n",
       "  <tbody>\n",
       "    <tr>\n",
       "      <th>0</th>\n",
       "      <td>9988021</td>\n",
       "      <td>580560515_7732621733</td>\n",
       "      <td>781255054_21935453173_531117</td>\n",
       "      <td>step_3</td>\n",
       "      <td>2017-04-17 15:27:07</td>\n",
       "    </tr>\n",
       "    <tr>\n",
       "      <th>1</th>\n",
       "      <td>9988021</td>\n",
       "      <td>580560515_7732621733</td>\n",
       "      <td>781255054_21935453173_531117</td>\n",
       "      <td>step_2</td>\n",
       "      <td>2017-04-17 15:26:51</td>\n",
       "    </tr>\n",
       "    <tr>\n",
       "      <th>2</th>\n",
       "      <td>9988021</td>\n",
       "      <td>580560515_7732621733</td>\n",
       "      <td>781255054_21935453173_531117</td>\n",
       "      <td>step_3</td>\n",
       "      <td>2017-04-17 15:19:22</td>\n",
       "    </tr>\n",
       "    <tr>\n",
       "      <th>3</th>\n",
       "      <td>9988021</td>\n",
       "      <td>580560515_7732621733</td>\n",
       "      <td>781255054_21935453173_531117</td>\n",
       "      <td>step_2</td>\n",
       "      <td>2017-04-17 15:19:13</td>\n",
       "    </tr>\n",
       "    <tr>\n",
       "      <th>4</th>\n",
       "      <td>9988021</td>\n",
       "      <td>580560515_7732621733</td>\n",
       "      <td>781255054_21935453173_531117</td>\n",
       "      <td>step_3</td>\n",
       "      <td>2017-04-17 15:18:04</td>\n",
       "    </tr>\n",
       "    <tr>\n",
       "      <th>...</th>\n",
       "      <td>...</td>\n",
       "      <td>...</td>\n",
       "      <td>...</td>\n",
       "      <td>...</td>\n",
       "      <td>...</td>\n",
       "    </tr>\n",
       "    <tr>\n",
       "      <th>412259</th>\n",
       "      <td>9668240</td>\n",
       "      <td>388766751_9038881013</td>\n",
       "      <td>922267647_3096648104_968866</td>\n",
       "      <td>start</td>\n",
       "      <td>2017-05-24 18:46:10</td>\n",
       "    </tr>\n",
       "    <tr>\n",
       "      <th>412260</th>\n",
       "      <td>9668240</td>\n",
       "      <td>388766751_9038881013</td>\n",
       "      <td>922267647_3096648104_968866</td>\n",
       "      <td>start</td>\n",
       "      <td>2017-05-24 18:45:29</td>\n",
       "    </tr>\n",
       "    <tr>\n",
       "      <th>412261</th>\n",
       "      <td>9668240</td>\n",
       "      <td>388766751_9038881013</td>\n",
       "      <td>922267647_3096648104_968866</td>\n",
       "      <td>step_1</td>\n",
       "      <td>2017-05-24 18:44:51</td>\n",
       "    </tr>\n",
       "    <tr>\n",
       "      <th>412262</th>\n",
       "      <td>9668240</td>\n",
       "      <td>388766751_9038881013</td>\n",
       "      <td>922267647_3096648104_968866</td>\n",
       "      <td>start</td>\n",
       "      <td>2017-05-24 18:44:34</td>\n",
       "    </tr>\n",
       "    <tr>\n",
       "      <th>412263</th>\n",
       "      <td>674799</td>\n",
       "      <td>947159805_81558194550</td>\n",
       "      <td>86152093_47511127657_716022</td>\n",
       "      <td>start</td>\n",
       "      <td>2017-06-03 12:17:09</td>\n",
       "    </tr>\n",
       "  </tbody>\n",
       "</table>\n",
       "<p>755405 rows × 5 columns</p>\n",
       "</div>"
      ],
      "text/plain": [
       "        client_id             visitor_id                      visit_id  \\\n",
       "0         9988021   580560515_7732621733  781255054_21935453173_531117   \n",
       "1         9988021   580560515_7732621733  781255054_21935453173_531117   \n",
       "2         9988021   580560515_7732621733  781255054_21935453173_531117   \n",
       "3         9988021   580560515_7732621733  781255054_21935453173_531117   \n",
       "4         9988021   580560515_7732621733  781255054_21935453173_531117   \n",
       "...           ...                    ...                           ...   \n",
       "412259    9668240   388766751_9038881013   922267647_3096648104_968866   \n",
       "412260    9668240   388766751_9038881013   922267647_3096648104_968866   \n",
       "412261    9668240   388766751_9038881013   922267647_3096648104_968866   \n",
       "412262    9668240   388766751_9038881013   922267647_3096648104_968866   \n",
       "412263     674799  947159805_81558194550   86152093_47511127657_716022   \n",
       "\n",
       "       process_step            date_time  \n",
       "0            step_3  2017-04-17 15:27:07  \n",
       "1            step_2  2017-04-17 15:26:51  \n",
       "2            step_3  2017-04-17 15:19:22  \n",
       "3            step_2  2017-04-17 15:19:13  \n",
       "4            step_3  2017-04-17 15:18:04  \n",
       "...             ...                  ...  \n",
       "412259        start  2017-05-24 18:46:10  \n",
       "412260        start  2017-05-24 18:45:29  \n",
       "412261       step_1  2017-05-24 18:44:51  \n",
       "412262        start  2017-05-24 18:44:34  \n",
       "412263        start  2017-06-03 12:17:09  \n",
       "\n",
       "[755405 rows x 5 columns]"
      ]
     },
     "execution_count": 19,
     "metadata": {},
     "output_type": "execute_result"
    }
   ],
   "source": [
    "merge_pt = pd.concat([p1_df, p2_df], axis=0)\n",
    "merge_pt"
   ]
  },
  {
   "cell_type": "code",
   "execution_count": 20,
   "id": "2c738e60",
   "metadata": {},
   "outputs": [
    {
     "data": {
      "text/plain": [
       "process_step\n",
       "start      243945\n",
       "step_1     163193\n",
       "step_2     133062\n",
       "step_3     112242\n",
       "confirm    102963\n",
       "Name: count, dtype: int64"
      ]
     },
     "execution_count": 20,
     "metadata": {},
     "output_type": "execute_result"
    }
   ],
   "source": [
    "merge_pt['process_step'].value_counts()"
   ]
  },
  {
   "cell_type": "code",
   "execution_count": 21,
   "id": "4573504f",
   "metadata": {},
   "outputs": [
    {
     "name": "stdout",
     "output_type": "stream",
     "text": [
      "Earliest date: 2017-03-15 00:03:03\n",
      "Latest date: 2017-06-20 23:59:57\n",
      "All dates are within the specified range.\n"
     ]
    }
   ],
   "source": [
    "merge_pt['date_time'] = pd.to_datetime(merge_pt['date_time'])\n",
    "\n",
    "earliest_date = merge_pt['date_time'].min()\n",
    "latest_date = merge_pt['date_time'].max()\n",
    "\n",
    "print(f\"Earliest date: {earliest_date}\")\n",
    "print(f\"Latest date: {latest_date}\")\n",
    "\n",
    "start_date = pd.Timestamp('2017-03-15 00:00:00')\n",
    "end_date = pd.Timestamp('2017-06-20 23:59:59')\n",
    "\n",
    "if earliest_date >= start_date and latest_date <= end_date:\n",
    "    print(\"All dates are within the specified range.\")\n",
    "else:\n",
    "    print(\"Dates are outside the specified range.\")"
   ]
  },
  {
   "cell_type": "code",
   "execution_count": 22,
   "id": "fc10b8c1",
   "metadata": {},
   "outputs": [
    {
     "data": {
      "text/plain": [
       "<pandas.core.groupby.generic.DataFrameGroupBy object at 0x1290835d0>"
      ]
     },
     "execution_count": 22,
     "metadata": {},
     "output_type": "execute_result"
    }
   ],
   "source": [
    "grouped = merge_pt.groupby('client_id')\n",
    "grouped"
   ]
  },
  {
   "cell_type": "code",
   "execution_count": 23,
   "id": "209914a7",
   "metadata": {},
   "outputs": [],
   "source": [
    "completion_times = grouped.apply(lambda x: x[x['process_step'] == 'confirm']['date_time'].max() - x[x['process_step'] == 'start']['date_time'].min())"
   ]
  },
  {
   "cell_type": "code",
   "execution_count": 24,
   "id": "44d0af34",
   "metadata": {},
   "outputs": [
    {
     "data": {
      "text/plain": [
       "False"
      ]
     },
     "execution_count": 24,
     "metadata": {},
     "output_type": "execute_result"
    }
   ],
   "source": [
    "test_comp = pd.merge(test_group, completion_times.rename('completion_time'), how='left', left_on='client_id', right_index=True)\n",
    "test_comp = test_comp.dropna(subset=['completion_time'])\n",
    "#test_comp.drop_duplicates(keep='first', inplace=True)\n",
    "test_comp.duplicated().any()"
   ]
  },
  {
   "cell_type": "code",
   "execution_count": 25,
   "id": "c93d0a66",
   "metadata": {},
   "outputs": [],
   "source": [
    "test_comp['completion_time'] = test_comp['completion_time'].astype(str)\n",
    "test_comp[['completion_days', 'additional_hours']] = test_comp['completion_time'].str.extract(r'(\\d+)\\s+days\\s+(\\d{2}:\\d{2}:\\d{2})')\n",
    "#test_comp['completion_days'] = test_comp['completion_days'].astype(int)\n",
    "test_comp['additional_hours'] = test_comp['additional_hours']"
   ]
  },
  {
   "cell_type": "code",
   "execution_count": 26,
   "id": "752227e4",
   "metadata": {},
   "outputs": [
    {
     "data": {
      "image/png": "[encoded data removed]",
      "text/plain": [
       "<Figure size 1000x600 with 1 Axes>"
      ]
     },
     "metadata": {},
     "output_type": "display_data"
    }
   ],
   "source": [
    "plt.figure(figsize=(10, 6))\n",
    "sns.histplot(test_comp['completion_days'], bins=30, kde=True)\n",
    "plt.title('Distribution of Completion Days')\n",
    "plt.xlabel('Completion Days')\n",
    "plt.ylabel('Frequency')\n",
    "plt.show()"
   ]
  },
  {
   "cell_type": "code",
   "execution_count": 27,
   "id": "0cf94386",
   "metadata": {},
   "outputs": [
    {
     "data": {
      "text/plain": [
       "False"
      ]
     },
     "execution_count": 27,
     "metadata": {},
     "output_type": "execute_result"
    }
   ],
   "source": [
    "control_comp = pd.merge(control_group, completion_times.rename('completion_time'), how='left', left_on='client_id', right_index=True)\n",
    "control_comp = control_comp.dropna(subset=['completion_time'])\n",
    "#control_comp.drop_duplicates(keep='first', inplace=True)\n",
    "control_comp.duplicated().any()"
   ]
  },
  {
   "cell_type": "code",
   "execution_count": 28,
   "id": "cd7b6593",
   "metadata": {},
   "outputs": [],
   "source": [
    "t_start= pd.merge(pd.merge(test_group, merge_pt[merge_pt['process_step']=='start'], on='client_id'), \n",
    "                     completion_times.rename('completion_time'), \n",
    "                     how='left', \n",
    "                     left_on='client_id', \n",
    "                     right_index=True)\n",
    "t_start.drop(columns = ['date_time','visitor_id','visit_id'], inplace=True)\n",
    "t_start.drop_duplicates(keep='first', inplace=True)\n",
    "\n",
    "c_start= pd.merge(pd.merge(control_group, merge_pt[merge_pt['process_step']=='start'], on='client_id'), \n",
    "                     completion_times.rename('completion_time'), \n",
    "                     how='left', \n",
    "                     left_on='client_id', \n",
    "                     right_index=True)\n",
    "c_start.drop(columns = ['date_time','visitor_id','visit_id'], inplace=True)\n",
    "c_start.drop_duplicates(keep='first', inplace=True)"
   ]
  },
  {
   "cell_type": "code",
   "execution_count": 29,
   "id": "8a07bd90",
   "metadata": {},
   "outputs": [],
   "source": [
    "c_confirm = pd.merge(pd.merge(control_group, merge_pt[merge_pt['process_step']=='confirm'], on='client_id'), \n",
    "                     completion_times.rename('completion_time'), \n",
    "                     how='left', \n",
    "                     left_on='client_id', \n",
    "                     right_index=True)\n",
    "c_confirm.drop(columns = ['date_time','visitor_id','visit_id'], inplace=True)\n",
    "c_confirm.drop_duplicates(keep='first', inplace=True)\n",
    "\n",
    "t_confirm= pd.merge(pd.merge(test_group, merge_pt[merge_pt['process_step']=='confirm'], on='client_id'), \n",
    "                     completion_times.rename('completion_time'), \n",
    "                     how='left', \n",
    "                     left_on='client_id', \n",
    "                     right_index=True)\n",
    "t_confirm.drop(columns = ['date_time','visitor_id','visit_id'], inplace=True)\n",
    "t_confirm.drop_duplicates(keep='first', inplace=True)"
   ]
  },
  {
   "cell_type": "code",
   "execution_count": 30,
   "id": "5aeddf9e",
   "metadata": {},
   "outputs": [],
   "source": [
    "keep_columns = ['client_id', 'process_step', 'clnt_age', 'clnt_tenure_mnth', 'calls_6_mnth']\n",
    "t_start = t_start[keep_columns]\n",
    "t_confirm = t_confirm[keep_columns]\n",
    "c_start = c_start[keep_columns]\n",
    "c_confirm = c_confirm[keep_columns]"
   ]
  },
  {
   "cell_type": "markdown",
   "id": "57d9544c",
   "metadata": {},
   "source": [
    "### KPI Creation"
   ]
  },
  {
   "cell_type": "code",
   "execution_count": 31,
   "id": "b8492cea",
   "metadata": {},
   "outputs": [],
   "source": [
    "m = merge_pt.copy()\n",
    "m\n",
    "\n",
    "test_m = pd.merge(m, final_df, on='client_id', how='outer')\n",
    "test_m\n",
    "\n",
    "w_age = pd.merge(test_m, demo_df[['client_id', 'clnt_age']], on='client_id', how='outer')\n",
    "w_age\n",
    "\n",
    "w_age = w_age.dropna(subset='Variation')\n",
    "w_age\n",
    "\n",
    "w_age['date_time'] = pd.to_datetime(w_age['date_time'])"
   ]
  },
  {
   "cell_type": "code",
   "execution_count": 32,
   "id": "c117787a",
   "metadata": {},
   "outputs": [
    {
     "data": {
      "text/html": [
       "<div>\n",
       "<style scoped>\n",
       "    .dataframe tbody tr th:only-of-type {\n",
       "        vertical-align: middle;\n",
       "    }\n",
       "\n",
       "    .dataframe tbody tr th {\n",
       "        vertical-align: top;\n",
       "    }\n",
       "\n",
       "    .dataframe thead th {\n",
       "        text-align: right;\n",
       "    }\n",
       "</style>\n",
       "<table border=\"1\" class=\"dataframe\">\n",
       "  <thead>\n",
       "    <tr style=\"text-align: right;\">\n",
       "      <th></th>\n",
       "      <th>Error Rate</th>\n",
       "      <th>Completion Rate</th>\n",
       "      <th>Avg Time Spent</th>\n",
       "    </tr>\n",
       "  </thead>\n",
       "  <tbody>\n",
       "    <tr>\n",
       "      <th>Control</th>\n",
       "      <td>0.815742</td>\n",
       "      <td>0.655873</td>\n",
       "      <td>NaT</td>\n",
       "    </tr>\n",
       "    <tr>\n",
       "      <th>Test</th>\n",
       "      <td>0.822808</td>\n",
       "      <td>0.692932</td>\n",
       "      <td>NaT</td>\n",
       "    </tr>\n",
       "    <tr>\n",
       "      <th>(Control, confirm)</th>\n",
       "      <td>NaN</td>\n",
       "      <td>NaN</td>\n",
       "      <td>0 days 00:03:08</td>\n",
       "    </tr>\n",
       "    <tr>\n",
       "      <th>(Control, start)</th>\n",
       "      <td>NaN</td>\n",
       "      <td>NaN</td>\n",
       "      <td>0 days 00:01:04</td>\n",
       "    </tr>\n",
       "    <tr>\n",
       "      <th>(Control, step_1)</th>\n",
       "      <td>NaN</td>\n",
       "      <td>NaN</td>\n",
       "      <td>0 days 00:01:43</td>\n",
       "    </tr>\n",
       "    <tr>\n",
       "      <th>(Control, step_2)</th>\n",
       "      <td>NaN</td>\n",
       "      <td>NaN</td>\n",
       "      <td>0 days 00:01:58</td>\n",
       "    </tr>\n",
       "    <tr>\n",
       "      <th>(Control, step_3)</th>\n",
       "      <td>NaN</td>\n",
       "      <td>NaN</td>\n",
       "      <td>0 days 00:02:25</td>\n",
       "    </tr>\n",
       "    <tr>\n",
       "      <th>(Test, confirm)</th>\n",
       "      <td>NaN</td>\n",
       "      <td>NaN</td>\n",
       "      <td>0 days 00:01:46</td>\n",
       "    </tr>\n",
       "    <tr>\n",
       "      <th>(Test, start)</th>\n",
       "      <td>NaN</td>\n",
       "      <td>NaN</td>\n",
       "      <td>0 days 00:00:30</td>\n",
       "    </tr>\n",
       "    <tr>\n",
       "      <th>(Test, step_1)</th>\n",
       "      <td>NaN</td>\n",
       "      <td>NaN</td>\n",
       "      <td>0 days 00:00:43</td>\n",
       "    </tr>\n",
       "    <tr>\n",
       "      <th>(Test, step_2)</th>\n",
       "      <td>NaN</td>\n",
       "      <td>NaN</td>\n",
       "      <td>0 days 00:00:54</td>\n",
       "    </tr>\n",
       "    <tr>\n",
       "      <th>(Test, step_3)</th>\n",
       "      <td>NaN</td>\n",
       "      <td>NaN</td>\n",
       "      <td>0 days 00:01:05</td>\n",
       "    </tr>\n",
       "  </tbody>\n",
       "</table>\n",
       "</div>"
      ],
      "text/plain": [
       "                    Error Rate  Completion Rate  Avg Time Spent\n",
       "Control               0.815742         0.655873             NaT\n",
       "Test                  0.822808         0.692932             NaT\n",
       "(Control, confirm)         NaN              NaN 0 days 00:03:08\n",
       "(Control, start)           NaN              NaN 0 days 00:01:04\n",
       "(Control, step_1)          NaN              NaN 0 days 00:01:43\n",
       "(Control, step_2)          NaN              NaN 0 days 00:01:58\n",
       "(Control, step_3)          NaN              NaN 0 days 00:02:25\n",
       "(Test, confirm)            NaN              NaN 0 days 00:01:46\n",
       "(Test, start)              NaN              NaN 0 days 00:00:30\n",
       "(Test, step_1)             NaN              NaN 0 days 00:00:43\n",
       "(Test, step_2)             NaN              NaN 0 days 00:00:54\n",
       "(Test, step_3)             NaN              NaN 0 days 00:01:05"
      ]
     },
     "execution_count": 32,
     "metadata": {},
     "output_type": "execute_result"
    }
   ],
   "source": [
    "grouped = w_age.groupby('Variation')\n",
    "\n",
    "def calculate_error_rate(group):\n",
    "    error_count = (group['process_step'] != group['process_step'].shift(-1)).sum()\n",
    "    return error_count / len(group)\n",
    "\n",
    "error_rates = grouped.apply(calculate_error_rate)\n",
    "\n",
    "def calculate_completion_rate(group):\n",
    "    unique_confirm = group.drop_duplicates(subset=['client_id', 'process_step'])\n",
    "    confirm_count = (unique_confirm['process_step'] == 'confirm').sum()\n",
    "    completion_rate = confirm_count / len(unique_confirm['client_id'].unique())\n",
    "    return completion_rate\n",
    "\n",
    "completion_rates = grouped.apply(calculate_completion_rate)\n",
    "\n",
    "def calculate_avg_time_spent(group):\n",
    "    return group.groupby(['Variation', 'process_step'])['date_time'].diff().mean()\n",
    "\n",
    "avg_time_spent = w_age.groupby(['Variation', 'process_step']).apply(calculate_avg_time_spent)\n",
    "avg_time_spent = avg_time_spent.apply(lambda x: pd.Timedelta(seconds=round(x.total_seconds())))\n",
    "\n",
    "result_df = pd.concat([error_rates.rename('Error Rate'), completion_rates.rename('Completion Rate'), avg_time_spent.rename('Avg Time Spent')], axis=1)\n",
    "\n",
    "result_df"
   ]
  },
  {
   "cell_type": "code",
   "execution_count": 33,
   "id": "f09191ed",
   "metadata": {},
   "outputs": [
    {
     "data": {
      "text/html": [
       "<div>\n",
       "<style scoped>\n",
       "    .dataframe tbody tr th:only-of-type {\n",
       "        vertical-align: middle;\n",
       "    }\n",
       "\n",
       "    .dataframe tbody tr th {\n",
       "        vertical-align: top;\n",
       "    }\n",
       "\n",
       "    .dataframe thead th {\n",
       "        text-align: right;\n",
       "    }\n",
       "</style>\n",
       "<table border=\"1\" class=\"dataframe\">\n",
       "  <thead>\n",
       "    <tr style=\"text-align: right;\">\n",
       "      <th></th>\n",
       "      <th>Error Rate</th>\n",
       "      <th>Completion Rate</th>\n",
       "      <th>Avg_Start</th>\n",
       "      <th>Avg_Step1</th>\n",
       "      <th>Avg_Step2</th>\n",
       "      <th>Avg_Step3</th>\n",
       "      <th>Avg_Confirm</th>\n",
       "    </tr>\n",
       "  </thead>\n",
       "  <tbody>\n",
       "    <tr>\n",
       "      <th>Control</th>\n",
       "      <td>0.815742</td>\n",
       "      <td>0.655873</td>\n",
       "      <td>01:04</td>\n",
       "      <td>01:43</td>\n",
       "      <td>01:58</td>\n",
       "      <td>02:25</td>\n",
       "      <td>03:08</td>\n",
       "    </tr>\n",
       "    <tr>\n",
       "      <th>Test</th>\n",
       "      <td>0.822808</td>\n",
       "      <td>0.692932</td>\n",
       "      <td>00:30</td>\n",
       "      <td>00:43</td>\n",
       "      <td>00:54</td>\n",
       "      <td>01:05</td>\n",
       "      <td>01:46</td>\n",
       "    </tr>\n",
       "  </tbody>\n",
       "</table>\n",
       "</div>"
      ],
      "text/plain": [
       "         Error Rate  Completion Rate Avg_Start Avg_Step1 Avg_Step2 Avg_Step3  \\\n",
       "Control    0.815742         0.655873     01:04     01:43     01:58     02:25   \n",
       "Test       0.822808         0.692932     00:30     00:43     00:54     01:05   \n",
       "\n",
       "        Avg_Confirm  \n",
       "Control       03:08  \n",
       "Test          01:46  "
      ]
     },
     "execution_count": 33,
     "metadata": {},
     "output_type": "execute_result"
    }
   ],
   "source": [
    "reshaped_df = pd.DataFrame()\n",
    "\n",
    "reshaped_df['Error Rate'] = [0.815742, 0.822808] \n",
    "reshaped_df['Completion Rate'] = [0.655873, 0.692932]  \n",
    "reshaped_df['Avg_Start'] = ['01:04', '00:30'] \n",
    "reshaped_df['Avg_Step1'] = ['01:43', '00:43']  \n",
    "reshaped_df['Avg_Step2'] = ['01:58', '00:54'] \n",
    "reshaped_df['Avg_Step3'] = ['02:25', '01:05'] \n",
    "reshaped_df['Avg_Confirm'] = ['03:08', '01:46'] \n",
    "\n",
    "reshaped_df.index = ['Control', 'Test']\n",
    "\n",
    "reshaped_df"
   ]
  },
  {
   "cell_type": "code",
   "execution_count": 34,
   "id": "b05b88db",
   "metadata": {},
   "outputs": [],
   "source": [
    "reshaped_df.to_csv('kpi.csv', index=False)"
   ]
  },
  {
   "cell_type": "markdown",
   "id": "951779e7",
   "metadata": {},
   "source": [
    "### Hypothesis 1\n",
    "\n",
    "Null Hypothesis: The completion rate for the Test group (new design) is equal to the completion rate for the Control group (old design).\n",
    "\n",
    "Alternative Hypothesis: The completion rate for the Test group (new design) is not equal to the completion rate for the Control group (old design).\n",
    "\n"
   ]
  },
  {
   "cell_type": "code",
   "execution_count": 35,
   "id": "7b2a63bd",
   "metadata": {},
   "outputs": [
    {
     "name": "stdout",
     "output_type": "stream",
     "text": [
      "Control completion ratio is: 0.6558728539860615\n",
      "Control completion ratio is: 0.6929323642835954\n"
     ]
    }
   ],
   "source": [
    "control_completion_ratio=len(c_confirm)/len(control_group)\n",
    "print(f\"Control completion ratio is: {control_completion_ratio}\" )\n",
    "test_completion_ratio=len(t_confirm)/len(test_group)\n",
    "print(f\"Control completion ratio is: {test_completion_ratio}\" )"
   ]
  },
  {
   "cell_type": "code",
   "execution_count": 36,
   "id": "91f6cf35",
   "metadata": {},
   "outputs": [
    {
     "name": "stdout",
     "output_type": "stream",
     "text": [
      "Z-statistic: -13.865443179474724\n",
      "P-value: 1.0259049915606384e-43\n"
     ]
    }
   ],
   "source": [
    "import statsmodels.api as sm\n",
    "from statsmodels.stats.proportion import proportions_ztest\n",
    "\n",
    "control_completed = len(c_confirm)\n",
    "test_completed = len(t_confirm)\n",
    "\n",
    "control_total = len(control_group)\n",
    "test_total = len(test_group)\n",
    "\n",
    "nobs_control = np.array([control_completed, control_total])\n",
    "nobs_test = np.array([test_completed, test_total])\n",
    "\n",
    "z_stat, p_value = sm.stats.proportions_ztest(nobs_control, nobs_test, alternative='two-sided')\n",
    "\n",
    "print(\"Z-statistic:\", z_stat)\n",
    "print(\"P-value:\", p_value)"
   ]
  },
  {
   "cell_type": "markdown",
   "id": "886bda8c",
   "metadata": {},
   "source": [
    "###### Hypothesis 1: We reject the null hypothesis. There is a statistically significant difference in the completion rates between the Test group (new design) and the Control group (old design)."
   ]
  },
  {
   "cell_type": "markdown",
   "id": "6ab9099f",
   "metadata": {},
   "source": [
    "### Hypothesis 2\n",
    "\n",
    "Null Hypothesis: The completion rate for the test group is equal to the completion rate for the control group.\n",
    "\n",
    "Alternative Hypothesis: The completion rate for the test group is different from the completion rate for the control group."
   ]
  },
  {
   "cell_type": "code",
   "execution_count": 37,
   "id": "35d4880f",
   "metadata": {},
   "outputs": [
    {
     "name": "stdout",
     "output_type": "stream",
     "text": [
      "Test group completion rate: 69.29%\n",
      "Control group completion rate: 65.59%\n"
     ]
    }
   ],
   "source": [
    "test_completions = t_confirm['client_id'].nunique()\n",
    "control_completions = c_confirm['client_id'].nunique()\n",
    "\n",
    "test_total = test_group['client_id'].nunique()\n",
    "control_total = control_group['client_id'].nunique()\n",
    "\n",
    "test_completion_rate = test_completions / test_total\n",
    "control_completion_rate = control_completions / control_total\n",
    "\n",
    "print(f\"Test group completion rate: {test_completion_rate:.2%}\")\n",
    "print(f\"Control group completion rate: {control_completion_rate:.2%}\")"
   ]
  },
  {
   "cell_type": "code",
   "execution_count": 38,
   "id": "dc68feb3",
   "metadata": {},
   "outputs": [
    {
     "name": "stdout",
     "output_type": "stream",
     "text": [
      "Percentage increase: 5.65%\n",
      "Z-statistic: 8.8745141890702\n",
      "P-value: 7.023933247581432e-19\n",
      "The completion rate for the test group has increased by at least 5% compared to the control group and is statistically significant.\n"
     ]
    }
   ],
   "source": [
    "percentage_increase = ((test_completion_rate - control_completion_rate) / control_completion_rate) * 100\n",
    "print(f\"Percentage increase: {percentage_increase:.2f}%\")\n",
    "\n",
    "successes = [test_completions, control_completions]\n",
    "\n",
    "nobs = [test_total, control_total]\n",
    "\n",
    "z_stat, p_value = proportions_ztest(successes, nobs)\n",
    "print(f\"Z-statistic: {z_stat:}\")\n",
    "print(f\"P-value: {p_value:}\")\n",
    "\n",
    "if percentage_increase >= 5 and p_value < 0.05:\n",
    "    print(\"The completion rate for the test group has increased by at least 5% compared to the control group and is statistically significant.\")\n",
    "else:\n",
    "    print(\"The increase in completion rate is either less than 5% or not statistically significant.\")"
   ]
  },
  {
   "cell_type": "markdown",
   "id": "11b53156",
   "metadata": {},
   "source": [
    "###### Hypothesis 2: We reject the null hypothesis. The intervention or change applied to the test group has had a meaningful and statistically significant impact on the completion rate compared to the control group."
   ]
  },
  {
   "cell_type": "markdown",
   "id": "8414414e",
   "metadata": {},
   "source": [
    "### Hypothesis 3\n",
    "\n",
    "Null Hypothesis: The average age of clients engaging with the new process (test group) is equal to the average age of clients engaging with the old process (control group).\n",
    "\n",
    "Alternative Hypothesis: The average age of clients engaging with the new process (test group) is not equal to the average age of clients engaging with the old process (control group)."
   ]
  },
  {
   "cell_type": "code",
   "execution_count": 39,
   "id": "fd70e884",
   "metadata": {},
   "outputs": [],
   "source": [
    "c_start=c_start.dropna(subset=\"clnt_age\")\n",
    "t_start=t_start.dropna(subset=\"clnt_age\")"
   ]
  },
  {
   "cell_type": "code",
   "execution_count": 40,
   "id": "461a2672",
   "metadata": {},
   "outputs": [
    {
     "name": "stdout",
     "output_type": "stream",
     "text": [
      "Control average age for engaging participants is: 47.491513830105596\n",
      "Test average age for engaging participants is: 47.0627624475105\n"
     ]
    }
   ],
   "source": [
    "average_age_control_engaging= c_start[\"clnt_age\"].mean()\n",
    "print(f\"Control average age for engaging participants is: {average_age_control_engaging}\" )\n",
    "average_age_test_engaging= t_start[\"clnt_age\"].mean()\n",
    "print(f\"Test average age for engaging participants is: {average_age_test_engaging}\" )"
   ]
  },
  {
   "cell_type": "code",
   "execution_count": 41,
   "id": "03c164a5",
   "metadata": {},
   "outputs": [
    {
     "name": "stdout",
     "output_type": "stream",
     "text": [
      "Z-statistic: 3.090812470250412\n",
      "P-value: 0.0019960965709288426\n",
      "Reject null hypothesis: There is a significant difference in mean ages between control and test groups.\n"
     ]
    }
   ],
   "source": [
    "mean_control = c_start[\"clnt_age\"].mean()\n",
    "std_control = c_start[\"clnt_age\"].std()\n",
    "\n",
    "mean_test = t_start[\"clnt_age\"].mean()\n",
    "std_test = t_start[\"clnt_age\"].std()\n",
    "\n",
    "nobs_control = len(c_start)\n",
    "nobs_test = len(t_start)\n",
    "\n",
    "z_stat, p_value = sm.stats.ztest(c_start[\"clnt_age\"], t_start[\"clnt_age\"], value=0, alternative='two-sided')\n",
    "\n",
    "print(\"Z-statistic:\", z_stat)\n",
    "print(\"P-value:\", p_value)\n",
    "\n",
    "alpha = 0.05\n",
    "if p_value < alpha:\n",
    "    print(\"Reject null hypothesis: There is a significant difference in mean ages between control and test groups.\")\n",
    "else:\n",
    "    print(\"Fail to reject null hypothesis: There is no significant difference in mean ages between control and test groups.\")"
   ]
  },
  {
   "cell_type": "markdown",
   "id": "f0c0cf71",
   "metadata": {},
   "source": [
    "###### Hypothesis 3: We reject the null hypothesis. There is a statistically significant difference in the average ages between the control and test groups."
   ]
  },
  {
   "cell_type": "markdown",
   "id": "b1481c18",
   "metadata": {},
   "source": [
    "### Hypothesis 4\n",
    "\n",
    "Null Hypothesis: The mean number of calls in the last 6 months is equal between the control group and the test group.\n",
    "\n",
    "Alternative Hypothesis: The mean number of calls in the last 6 months is greater for the control group than for the test group."
   ]
  },
  {
   "cell_type": "code",
   "execution_count": 42,
   "id": "bacf7944",
   "metadata": {},
   "outputs": [],
   "source": [
    "keep_columns = ['client_id', 'process_step', 'calls_6_mnth', 'clnt_tenure_mnth']\n",
    "\n",
    "c_start = c_start[keep_columns].dropna(subset=['calls_6_mnth'])\n",
    "t_start = t_start[keep_columns].dropna(subset=['calls_6_mnth'])\n",
    "c_confirm = c_confirm[keep_columns].dropna(subset=['calls_6_mnth'])\n",
    "t_confirm = t_confirm[keep_columns].dropna(subset=['calls_6_mnth'])\n",
    "\n",
    "c_calls_start = c_start['calls_6_mnth']\n",
    "t_calls_start = t_start['calls_6_mnth']\n",
    "c_calls_confirm = c_confirm['calls_6_mnth']\n",
    "t_calls_confirm = t_confirm['calls_6_mnth']"
   ]
  },
  {
   "cell_type": "code",
   "execution_count": 45,
   "id": "020b8c8d",
   "metadata": {},
   "outputs": [
    {
     "data": {
      "text/plain": [
       "((3.7212007405301337, 9.913887009127542e-05),\n",
       " (2.3471091176434244, 0.009459856537153644))"
      ]
     },
     "execution_count": 45,
     "metadata": {},
     "output_type": "execute_result"
    }
   ],
   "source": [
    "mean_c_start = np.mean(c_calls_start)\n",
    "std_c_start = np.std(c_calls_start, ddof=1)\n",
    "n_c_start = len(c_calls_start)\n",
    "\n",
    "mean_t_start = np.mean(t_calls_start)\n",
    "std_t_start = np.std(t_calls_start, ddof=1)\n",
    "n_t_start = len(t_calls_start)\n",
    "\n",
    "mean_c_confirm = np.mean(c_calls_confirm)\n",
    "std_c_confirm = np.std(c_calls_confirm, ddof=1)\n",
    "n_c_confirm = len(c_calls_confirm)\n",
    "\n",
    "mean_t_confirm = np.mean(t_calls_confirm)\n",
    "std_t_confirm = np.std(t_calls_confirm, ddof=1)\n",
    "n_t_confirm = len(t_calls_confirm)\n",
    "\n",
    "z_start = (mean_c_start - mean_t_start) / np.sqrt((std_c_start**2 / n_c_start) + (std_t_start**2 / n_t_start))\n",
    "z_confirm = (mean_c_confirm - mean_t_confirm) / np.sqrt((std_c_confirm**2 / n_c_confirm) + (std_t_confirm**2 / n_t_confirm))\n",
    "\n",
    "p_value_start = 1 - stats.norm.cdf(z_start)\n",
    "p_value_confirm = 1 - stats.norm.cdf(z_confirm)\n",
    "\n",
    "(z_start, p_value_start), (z_confirm, p_value_confirm)"
   ]
  },
  {
   "cell_type": "markdown",
   "id": "414e0426",
   "metadata": {},
   "source": [
    "###### Hypothesis 4: We reject the null hypothesis in favor of the alternative for Hypothesis 4. P-VALUE is <0.05 for both tests regarding the start and confirm stages for the test group and control group. This suggests that there is a statistically significant difference in the mean number of calls in the first 6 months between the control and test groups. With that mean being greater for the control group."
   ]
  },
  {
   "cell_type": "markdown",
   "id": "41bf8c11",
   "metadata": {},
   "source": [
    " "
   ]
  },
  {
   "cell_type": "markdown",
   "id": "437cdeb6",
   "metadata": {},
   "source": [
    "### Hypothesis 5:\n",
    "\n",
    "Null Hypothesis: The average client tenure (in months) of those engaging with the new process (test group) is equal to the average client tenure of those engaging with the old process (control group).\n",
    "\n",
    "Alternative Hypothesis: The average client tenure (in months) of those engaging with the new process (test group) is not equal to the average client tenure of those engaging with the old process (control group)."
   ]
  },
  {
   "cell_type": "code",
   "execution_count": 46,
   "id": "924ef50a",
   "metadata": {},
   "outputs": [],
   "source": [
    "c_start=c_start.dropna(subset=\"clnt_tenure_mnth\")\n",
    "t_start=t_start.dropna(subset=\"clnt_tenure_mnth\")"
   ]
  },
  {
   "cell_type": "code",
   "execution_count": 47,
   "id": "053b4378",
   "metadata": {},
   "outputs": [
    {
     "name": "stdout",
     "output_type": "stream",
     "text": [
      "Control average tenure (in months) for engaging participants is: 151.03591124791586\n",
      "Test average tenure (in months) for engaging participants is: 149.33349580083984\n"
     ]
    }
   ],
   "source": [
    "average_tenure_control_engaging= c_start[\"clnt_tenure_mnth\"].mean()\n",
    "print(f\"Control average tenure (in months) for engaging participants is: {average_tenure_control_engaging}\" )\n",
    "average_tenure_test_engaging= t_start[\"clnt_tenure_mnth\"].mean()\n",
    "print(f\"Test average tenure (in months) for engaging participants is: {average_tenure_test_engaging}\" )"
   ]
  },
  {
   "cell_type": "code",
   "execution_count": 48,
   "id": "8a86e8e0",
   "metadata": {},
   "outputs": [
    {
     "name": "stdout",
     "output_type": "stream",
     "text": [
      "Z-statistic: 2.3264222180153014\n",
      "P-value: 0.01999603749031287\n",
      "Reject null hypothesis: There is a significant difference in mean tenure months between control and test groups.\n"
     ]
    }
   ],
   "source": [
    "mean_control = c_start[\"clnt_tenure_mnth\"].mean()\n",
    "std_control = c_start[\"clnt_tenure_mnth\"].std()\n",
    "\n",
    "mean_test = t_start[\"clnt_tenure_mnth\"].mean()\n",
    "std_test = t_start[\"clnt_tenure_mnth\"].std()\n",
    "\n",
    "nobs_control = len(c_start)\n",
    "nobs_test = len(t_start)\n",
    "\n",
    "z_stat, p_value = sm.stats.ztest(c_start[\"clnt_tenure_mnth\"], t_start[\"clnt_tenure_mnth\"], value=0, alternative='two-sided')\n",
    "\n",
    "print(\"Z-statistic:\", z_stat)\n",
    "print(\"P-value:\", p_value)\n",
    "\n",
    "alpha = 0.05\n",
    "if p_value < alpha:\n",
    "    print(\"Reject null hypothesis: There is a significant difference in mean tenure months between control and test groups.\")\n",
    "else:\n",
    "    print(\"Fail to reject null hypothesis: There is no significant difference in mean tenure months between control and test groups.\")"
   ]
  },
  {
   "cell_type": "markdown",
   "id": "c47551cd",
   "metadata": {},
   "source": [
    "###### Hypothesis 5: We reject the null hypothesis. There is a statistically significant difference in the mean client tenure (in months) between the control and test groups."
   ]
  }
 ],
 "metadata": {
  "kernelspec": {
   "display_name": "Python 3 (ipykernel)",
   "language": "python",
   "name": "python3"
  },
  "language_info": {
   "codemirror_mode": {
    "name": "ipython",
    "version": 3
   },
   "file_extension": ".py",
   "mimetype": "text/x-python",
   "name": "python",
   "nbconvert_exporter": "python",
   "pygments_lexer": "ipython3",
   "version": "3.11.7"
  }
 },
 "nbformat": 4,
 "nbformat_minor": 5
}
